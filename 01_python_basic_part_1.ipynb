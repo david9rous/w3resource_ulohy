{
 "cells": [
  {
   "cell_type": "markdown",
   "metadata": {},
   "source": [
    "1. Write a Python program to print the following string in a specific format (see the output).\n",
    "Sample String : \"Twinkle, twinkle, little star, How I wonder what you are! Up above the world so high, Like a diamond in the sky. Twinkle, twinkle, little star, How I wonder what you are\"\n",
    "Output :\n",
    "\n",
    "Twinkle, twinkle, little star,\n",
    "\tHow I wonder what you are! \n",
    "\t\tUp above the world so high,   \t\t\n",
    "\t\tLike a diamond in the sky. \n",
    "Twinkle, twinkle, little star, \n",
    "\tHow I wonder what you are"
   ]
  },
  {
   "cell_type": "code",
   "execution_count": 3,
   "metadata": {},
   "outputs": [
    {
     "name": "stdout",
     "output_type": "stream",
     "text": [
      "\n",
      "Twinkle, twinkle, little star, \n",
      "\tHow I wonder what you are! \n",
      "\t\tUp above the world so high, \n",
      "\t\tLike a diamond in the sky. \n",
      "Twinkle, twinkle, little star, \n",
      "\tHow I wonder what you are\n",
      "\n"
     ]
    }
   ],
   "source": [
    "print(\"\"\"\n",
    "Twinkle, twinkle, little star, \n",
    "\\tHow I wonder what you are! \n",
    "\\t\\tUp above the world so high, \n",
    "\\t\\tLike a diamond in the sky. \n",
    "Twinkle, twinkle, little star, \n",
    "\\tHow I wonder what you are\n",
    "\"\"\")"
   ]
  },
  {
   "cell_type": "markdown",
   "metadata": {},
   "source": [
    "2. Write a Python program to find out what version of Python you are using. "
   ]
  },
  {
   "cell_type": "code",
   "execution_count": 4,
   "metadata": {},
   "outputs": [
    {
     "name": "stdout",
     "output_type": "stream",
     "text": [
      "3.11.9 (tags/v3.11.9:de54cf5, Apr  2 2024, 10:12:12) [MSC v.1938 64 bit (AMD64)]\n"
     ]
    }
   ],
   "source": [
    "import sys\n",
    "\n",
    "print(sys.version)"
   ]
  },
  {
   "cell_type": "markdown",
   "metadata": {},
   "source": [
    "3. Write a Python program to display the current date and time.\n",
    "Sample Output:\n",
    "Current date and time:\n",
    "2014-07-05 14:34:14"
   ]
  },
  {
   "cell_type": "code",
   "execution_count": 4,
   "metadata": {},
   "outputs": [
    {
     "name": "stdout",
     "output_type": "stream",
     "text": [
      "Current date and time:\n",
      "2024-06-21 11:07:12\n"
     ]
    }
   ],
   "source": [
    "from datetime import datetime\n",
    "\n",
    "time = str(datetime.now()).split('.')\n",
    "print(f\"Current date and time:\\n{time[0]}\")"
   ]
  },
  {
   "cell_type": "markdown",
   "metadata": {},
   "source": [
    "4. Write a Python program that calculates the area of a circle based on the radius entered by the user.\n",
    "Sample Output :\n",
    "r = 1.1\n",
    "Area = 3.8013271108436504"
   ]
  },
  {
   "cell_type": "code",
   "execution_count": 12,
   "metadata": {},
   "outputs": [
    {
     "name": "stdout",
     "output_type": "stream",
     "text": [
      "r = 2\n",
      "Area = 12.566370614359172\n"
     ]
    }
   ],
   "source": [
    "import math\n",
    "\n",
    "radius = int(input(\"Polomer: \"))\n",
    "print(f\"r = {radius}\\nArea = {math.pi*(radius**2)}\")"
   ]
  },
  {
   "cell_type": "markdown",
   "metadata": {},
   "source": [
    "5. Write a Python program that accepts the user's first and last name and prints them in reverse order with a space between them."
   ]
  },
  {
   "cell_type": "code",
   "execution_count": 13,
   "metadata": {},
   "outputs": [
    {
     "name": "stdout",
     "output_type": "stream",
     "text": [
      "Rous David\n"
     ]
    }
   ],
   "source": [
    "full_name = input(\"Jmeno a prijmeni: \").split()\n",
    "print(full_name[1], full_name[0])"
   ]
  },
  {
   "cell_type": "markdown",
   "metadata": {},
   "source": [
    "6. Write a Python program that accepts a sequence of comma-separated numbers from the user and generates a list and a tuple of those numbers.\n",
    "Sample data : 3, 5, 7, 23\n",
    "Output :\n",
    "List : ['3', ' 5', ' 7', ' 23']\n",
    "Tuple : ('3', ' 5', ' 7', ' 23')"
   ]
  },
  {
   "cell_type": "code",
   "execution_count": 4,
   "metadata": {},
   "outputs": [
    {
     "name": "stdout",
     "output_type": "stream",
     "text": [
      "Output:\n",
      "List: ['3', '5', '7', '23']\n",
      "Tuple: ('3', '5', '7', '23')\n"
     ]
    }
   ],
   "source": [
    "numbers = input(\"Vstup: \").replace(' ', '').split(',')\n",
    "print(f\"Output:\\nList: {numbers}\\nTuple: {tuple(numbers)}\")"
   ]
  },
  {
   "cell_type": "markdown",
   "metadata": {},
   "source": [
    "7. Write a Python program that accepts a filename from the user and prints the extension of the file.\n",
    "Sample filename : abc.java\n",
    "Output : java"
   ]
  },
  {
   "cell_type": "code",
   "execution_count": 5,
   "metadata": {},
   "outputs": [
    {
     "name": "stdout",
     "output_type": "stream",
     "text": [
      "Sample filename: file.java\n",
      "Output: java\n"
     ]
    }
   ],
   "source": [
    "file_name = input(\"Nazev souboru: \")\n",
    "extension = file_name.split('.')\n",
    "print(f\"Sample filename: {file_name}\\nOutput: {str(extension[-1])}\")"
   ]
  },
  {
   "cell_type": "markdown",
   "metadata": {},
   "source": [
    "8. Write a Python program to display the first and last colors from the following list.\n",
    "color_list = [\"Red\",\"Green\",\"White\" ,\"Black\"]"
   ]
  },
  {
   "cell_type": "code",
   "execution_count": 6,
   "metadata": {},
   "outputs": [
    {
     "name": "stdout",
     "output_type": "stream",
     "text": [
      "Red Black\n"
     ]
    }
   ],
   "source": [
    "color_list = [\"Red\",\"Green\",\"White\" ,\"Black\"]\n",
    "print(color_list[0], color_list[-1])"
   ]
  },
  {
   "cell_type": "markdown",
   "metadata": {},
   "source": [
    "9. Write a Python program to display the examination schedule. (extract the date from exam_st_date).\n",
    "exam_st_date = (11, 12, 2014)\n",
    "Sample Output : The examination will start from : 11 / 12 / 2014"
   ]
  },
  {
   "cell_type": "code",
   "execution_count": 7,
   "metadata": {},
   "outputs": [
    {
     "name": "stdout",
     "output_type": "stream",
     "text": [
      "The examination will start from: 11 / 12 / 2014\n"
     ]
    }
   ],
   "source": [
    "exam_st_date = (11, 12, 2014)\n",
    "print(f\"The examination will start from: {exam_st_date[0]} / {exam_st_date[1]} / {exam_st_date[2]}\")"
   ]
  },
  {
   "cell_type": "markdown",
   "metadata": {},
   "source": [
    "10. Write a Python program that accepts an integer (n) and computes the value of n+nn+nnn.\n",
    "Sample value of n is 5\n",
    "Expected Result : 615"
   ]
  },
  {
   "cell_type": "code",
   "execution_count": 17,
   "metadata": {},
   "outputs": [
    {
     "name": "stdout",
     "output_type": "stream",
     "text": [
      "Result: 615\n"
     ]
    }
   ],
   "source": [
    "n = input(\"Vstupni cislo: \")\n",
    "print(f\"Result: {int(n) + int(n+n) + int(n+n+n)}\")"
   ]
  },
  {
   "cell_type": "markdown",
   "metadata": {},
   "source": [
    "11. Write a Python program to print the documents (syntax, description etc.) of Python built-in function(s).\n",
    "Sample function : abs()\n",
    "Expected Result :\n",
    "abs(number) -> number\n",
    "Return the absolute value of the argument."
   ]
  },
  {
   "cell_type": "code",
   "execution_count": 33,
   "metadata": {},
   "outputs": [
    {
     "name": "stdout",
     "output_type": "stream",
     "text": [
      "Return the absolute value of the argument.\n"
     ]
    }
   ],
   "source": [
    "print(abs.__doc__)"
   ]
  },
  {
   "cell_type": "markdown",
   "metadata": {},
   "source": [
    "12. Write a Python program that prints the calendar for a given month and year.\n",
    "Note : Use 'calendar' module. "
   ]
  },
  {
   "cell_type": "code",
   "execution_count": 43,
   "metadata": {},
   "outputs": [
    {
     "name": "stdout",
     "output_type": "stream",
     "text": [
      "      May 2024\n",
      "Mo Tu We Th Fr Sa Su\n",
      "       1  2  3  4  5\n",
      " 6  7  8  9 10 11 12\n",
      "13 14 15 16 17 18 19\n",
      "20 21 22 23 24 25 26\n",
      "27 28 29 30 31\n",
      "\n"
     ]
    }
   ],
   "source": [
    "import calendar\n",
    "\n",
    "year_and_month = input(\"Rok a mesic: \").split()\n",
    "print(calendar.month(int(year_and_month[0]), int(year_and_month[1])))"
   ]
  },
  {
   "cell_type": "markdown",
   "metadata": {},
   "source": [
    "13. Write a Python program to print the following 'here document'.\n",
    "Sample string :\n",
    "a string that you \"don't\" have to escape\n",
    "This\n",
    "is a ....... multi-line\n",
    "heredoc string --------> example"
   ]
  },
  {
   "cell_type": "code",
   "execution_count": 44,
   "metadata": {},
   "outputs": [
    {
     "name": "stdout",
     "output_type": "stream",
     "text": [
      "\n",
      "a string that you \"don't\" have to escape\n",
      "This\n",
      "is a ....... multi-line\n",
      "heredoc string --------> example\n",
      "\n"
     ]
    }
   ],
   "source": [
    "print(\"\"\"\n",
    "a string that you \"don't\" have to escape\n",
    "This\n",
    "is a ....... multi-line\n",
    "heredoc string --------> example\n",
    "\"\"\")"
   ]
  },
  {
   "cell_type": "markdown",
   "metadata": {},
   "source": [
    "14. Write a Python program to calculate the number of days between two dates.\n",
    "Sample dates : (2014, 7, 2), (2014, 7, 11)\n",
    "Expected output : 9 days "
   ]
  },
  {
   "cell_type": "code",
   "execution_count": 46,
   "metadata": {},
   "outputs": [
    {
     "name": "stdout",
     "output_type": "stream",
     "text": [
      "Output: 9 days\n"
     ]
    }
   ],
   "source": [
    "from datetime import date\n",
    "\n",
    "date_01 = date(2024, 7, 2)\n",
    "date_02 = date(2024, 7, 11)\n",
    "difference = date_02 - date_01\n",
    "print(f\"Output: {str(difference).split(',')[0]}\")"
   ]
  },
  {
   "cell_type": "markdown",
   "metadata": {},
   "source": [
    "15. Write a Python program to get the volume of a sphere with radius six. V = 4/3 π r³"
   ]
  },
  {
   "cell_type": "code",
   "execution_count": 49,
   "metadata": {},
   "outputs": [
    {
     "name": "stdout",
     "output_type": "stream",
     "text": [
      "904.7786842338604\n"
     ]
    }
   ],
   "source": [
    "import math\n",
    "\n",
    "radius = 6\n",
    "volume = (4 * (math.pi*(radius**3))) / 3\n",
    "print(volume)"
   ]
  },
  {
   "cell_type": "markdown",
   "metadata": {},
   "source": [
    "16. Write a Python program to calculate the difference between a given number and 17. If the number is greater than 17, return twice the absolute difference. "
   ]
  },
  {
   "cell_type": "code",
   "execution_count": 53,
   "metadata": {},
   "outputs": [
    {
     "name": "stdout",
     "output_type": "stream",
     "text": [
      "14\n"
     ]
    }
   ],
   "source": [
    "given_number = int(input(\"Cislo: \"))\n",
    "if given_number > 17:\n",
    "    result = 2 * (given_number - 17)\n",
    "else:\n",
    "    result = 17 - given_number\n",
    "\n",
    "print(result)"
   ]
  },
  {
   "cell_type": "markdown",
   "metadata": {},
   "source": [
    "17. Write a Python program to test whether a number is within 100 of 1000 or 2000. "
   ]
  },
  {
   "cell_type": "code",
   "execution_count": 56,
   "metadata": {},
   "outputs": [
    {
     "name": "stdout",
     "output_type": "stream",
     "text": [
      "Cislo neni pobliz 1000 ani 2000.\n"
     ]
    }
   ],
   "source": [
    "given_number = int(input(\"Cislo: \"))\n",
    "if given_number in range(900, 1101):\n",
    "    result = \"Cislo je vzdaleno do 100 od 1000.\"\n",
    "elif given_number in range(1900, 2101):\n",
    "    result = \"Cislo je vzdaleno do 100 od 2000.\"\n",
    "else: \n",
    "    result = \"Cislo neni pobliz do 100 od 1000 ani 2000.\"\n",
    "\n",
    "print(result)"
   ]
  },
  {
   "cell_type": "markdown",
   "metadata": {},
   "source": [
    "18. Write a Python program to calculate the sum of three given numbers. If the values are equal, return three times their sum. "
   ]
  },
  {
   "cell_type": "code",
   "execution_count": 62,
   "metadata": {},
   "outputs": [
    {
     "name": "stdout",
     "output_type": "stream",
     "text": [
      "18\n"
     ]
    }
   ],
   "source": [
    "given_numbers = input(\"Cisla: \").split()\n",
    "for i, num in enumerate(given_numbers):\n",
    "    given_numbers[i] = int(num)\n",
    "\n",
    "if given_numbers[0] == given_numbers[1] == given_numbers[2]:\n",
    "    result = 3 * sum(given_numbers)\n",
    "else:\n",
    "    result = sum(given_numbers)\n",
    "\n",
    "print(result)"
   ]
  },
  {
   "cell_type": "markdown",
   "metadata": {},
   "source": [
    "19. Write a Python program to get a newly-generated string from a given string where \"Is\" has been added to the front. Return the string unchanged if the given string already begins with \"Is\". "
   ]
  },
  {
   "cell_type": "code",
   "execution_count": 65,
   "metadata": {},
   "outputs": [
    {
     "name": "stdout",
     "output_type": "stream",
     "text": [
      "Island\n"
     ]
    }
   ],
   "source": [
    "string = input(\"Vstup: \")\n",
    "if string[0] == 'I' and string[1] == 's':\n",
    "    pass\n",
    "else:\n",
    "    string = 'Is' + string\n",
    "\n",
    "print(string)\n",
    "\n"
   ]
  },
  {
   "cell_type": "markdown",
   "metadata": {},
   "source": [
    "Lepsi reseni: If text[:2] == 'Is'"
   ]
  },
  {
   "cell_type": "markdown",
   "metadata": {},
   "source": [
    "20. Write a Python program that returns a string that is n (non-negative integer) copies of a given string. "
   ]
  },
  {
   "cell_type": "code",
   "execution_count": 69,
   "metadata": {},
   "outputs": [
    {
     "name": "stdout",
     "output_type": "stream",
     "text": [
      "text/text/text/text/text/text/text/text/\n"
     ]
    }
   ],
   "source": [
    "string = 'text/'\n",
    "copies = int(input(\"Pocet kopii: \"))\n",
    "print(abs(copies)*string)"
   ]
  },
  {
   "cell_type": "markdown",
   "metadata": {},
   "source": [
    "21. Write a Python program that determines whether a given number (accepted from the user) is even or odd, and prints an appropriate message to the user. "
   ]
  },
  {
   "cell_type": "code",
   "execution_count": 3,
   "metadata": {},
   "outputs": [
    {
     "name": "stdout",
     "output_type": "stream",
     "text": [
      "To je sude cislo.\n"
     ]
    }
   ],
   "source": [
    "given_number = int(input(\"Vstupni cislo: \"))\n",
    "if given_number % 2 == 0:\n",
    "    print(\"To je sude cislo.\")\n",
    "else:\n",
    "    print(\"To je liche cislo.\")"
   ]
  },
  {
   "cell_type": "markdown",
   "metadata": {},
   "source": [
    "22. Write a Python program to count the number 4 in a given list. "
   ]
  },
  {
   "cell_type": "code",
   "execution_count": 5,
   "metadata": {},
   "outputs": [
    {
     "name": "stdout",
     "output_type": "stream",
     "text": [
      "2\n"
     ]
    }
   ],
   "source": [
    "given_list = [1, 3, 5, 4, 6, 4, 8]\n",
    "counter = 0\n",
    "for i in given_list:\n",
    "    if i == 4:\n",
    "        counter += 1\n",
    "\n",
    "print(counter)"
   ]
  },
  {
   "cell_type": "markdown",
   "metadata": {},
   "source": [
    "23. Write a Python program to get n (non-negative integer) copies of the first 2 characters of a given string. Return n copies of the whole string if the length is less than 2. "
   ]
  },
  {
   "cell_type": "code",
   "execution_count": 1,
   "metadata": {},
   "outputs": [
    {
     "name": "stdout",
     "output_type": "stream",
     "text": [
      "lalala\n"
     ]
    }
   ],
   "source": [
    "given_string = \"la\"\n",
    "copies = 3\n",
    "copied_text = ''\n",
    "resulting_string = ''\n",
    "if 0 < len(given_string) < 2:\n",
    "    copied_text = given_string\n",
    "else:\n",
    "    copied_text = given_string[:2]\n",
    "\n",
    "resulting_string = copies*copied_text\n",
    "print(resulting_string)"
   ]
  }
 ],
 "metadata": {
  "language_info": {
   "name": "python"
  }
 },
 "nbformat": 4,
 "nbformat_minor": 2
}
